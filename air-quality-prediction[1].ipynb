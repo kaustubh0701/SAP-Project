{
 "cells": [
  {
   "cell_type": "code",
   "execution_count": null,
   "id": "18c31863",
   "metadata": {
    "_cell_guid": "b1076dfc-b9ad-4769-8c92-a6c4dae69d19",
    "_uuid": "8f2839f25d086af736a60e9eeb907d3b93b6e0e5",
    "execution": {
     "iopub.execute_input": "2025-04-18T08:41:21.357170Z",
     "iopub.status.busy": "2025-04-18T08:41:21.356835Z",
     "iopub.status.idle": "2025-04-18T08:41:23.312090Z",
     "shell.execute_reply": "2025-04-18T08:41:23.310993Z"
    },
    "papermill": {
     "duration": 1.964536,
     "end_time": "2025-04-18T08:41:23.314186",
     "exception": false,
     "start_time": "2025-04-18T08:41:21.349650",
     "status": "completed"
    },
    "tags": []
   },
   "outputs": [
    {
     "name": "stdout",
     "output_type": "stream",
     "text": [
      "/kaggle/input/air-quality-data/AirQualityData.csv\n"
     ]
    }
   ],
   "source": [
    "\n",
    "import os\n",
    "for dirname, _, filenames in os.walk('/kaggle/input'):\n",
    "    for filename in filenames:\n",
    "        print(os.path.join(dirname, filename))\n",
    "\n",
    "# You can write up to 20GB to the current directory (/kaggle/working/) that gets preserved as output when you create a version using \"Save & Run All\" \n",
    "# You can also write temporary files to /kaggle/temp/, but they won't be saved outside of the current session"
   ]
  },
  {
   "cell_type": "markdown",
   "id": "bf6c447f",
   "metadata": {
    "papermill": {
     "duration": 0.005985,
     "end_time": "2025-04-18T08:41:23.329656",
     "exception": false,
     "start_time": "2025-04-18T08:41:23.323671",
     "status": "completed"
    },
    "tags": []
   },
   "source": [
    "## **Introduction**\n",
    "\n",
    "**Problem Statement**\n",
    "\n",
    "Air quality is a critical environmental factor affecting public health and urban sustainability. Accurate prediction of air quality metrics, such as the Air Quality Index (AQI), can aid in issuing timely warnings, informing policy decisions, and mitigating health risks. The dataset provided contains hourly air quality measurements, including pollutant concentrations (CO, NOx, NO2, O3, SO2, PM2.5, PM10), meteorological variables (temperature, humidity, pressure, wind speed, wind direction), and derived features (ratios, moving averages, temporal indicators). The challenge is to develop a machine learning model to predict the Air Quality Index (AQI) based on these features, capturing the complex relationships between pollutants, weather conditions, and temporal patterns.\n",
    "\n",
    "**Objective**\n",
    "\n",
    "The primary objective is to build a robust machine learning model to predict the Air Quality Index (AQI) using the provided dataset. The model should achieve high predictive accuracy, be interpretable to identify key drivers of air quality, and generalize well to unseen data. This project will demonstrate proficiency in data preprocessing, feature engineering, model selection, hyperparameter tuning, and evaluation, showcasing skills essential for a data scientist or machine learning engineer.\n",
    "\n",
    "**Steps**\n",
    "\n",
    "The project will follow a structured machine learning workflow, with each step accompanied by executable Python code. After running each section, you will provide the results, and I will analyze them in bullet form. The steps are:\n",
    "\n",
    "1. Data Exploration and Preprocessing\n",
    "2. Feature Engineering\n",
    "3. Model Selection and Training\n",
    "4. Hyperparameter Tuning\n",
    "5. Model Interpretation and Evaluation\n",
    "6. Summarize model performance and discuss limitations."
   ]
  },
  {
   "cell_type": "markdown",
   "id": "2a0c851d",
   "metadata": {
    "papermill": {
     "duration": 0.0065,
     "end_time": "2025-04-18T08:41:23.342739",
     "exception": false,
     "start_time": "2025-04-18T08:41:23.336239",
     "status": "completed"
    },
    "tags": []
   },
   "source": [
    "## **Data Exploration and Preprocessing**"
   ]
  },
  {
   "cell_type": "code",
   "execution_count": null,
   "id": "bdb9e396",
   "metadata": {
    "execution": {
     "iopub.execute_input": "2025-04-18T08:41:23.358241Z",
     "iopub.status.busy": "2025-04-18T08:41:23.356941Z",
     "iopub.status.idle": "2025-04-18T08:41:26.446317Z",
     "shell.execute_reply": "2025-04-18T08:41:26.445384Z"
    },
    "papermill": {
     "duration": 3.100042,
     "end_time": "2025-04-18T08:41:26.447983",
     "exception": false,
     "start_time": "2025-04-18T08:41:23.347941",
     "status": "completed"
    },
    "tags": []
   },
   "outputs": [],
   "source": [
    "import matplotlib.pyplot as plt\n",
    "import seaborn as sns\n",
    "\n",
    "from sklearn.model_selection import train_test_split \n",
    "from sklearn.preprocessing import StandardScaler \n",
    "from sklearn.linear_model import LinearRegression\n",
    "from sklearn.ensemble import RandomForestRegressor\n",
    "from xgboost import XGBRegressor\n",
    "from sklearn.model_selection import cross_val_score\n",
    "from sklearn.metrics import mean_squared_error, r2_score\n",
    "\n",
    "import warnings\n",
    "warnings.filterwarnings('ignore')"
   ]
  },
  {
   "cell_type": "code",
   "execution_count": null,
   "id": "29726e9c",
   "metadata": {
    "execution": {
     "iopub.execute_input": "2025-04-18T08:41:26.460493Z",
     "iopub.status.busy": "2025-04-18T08:41:26.460079Z",
     "iopub.status.idle": "2025-04-18T08:41:26.555352Z",
     "shell.execute_reply": "2025-04-18T08:41:26.554472Z"
    },
    "papermill": {
     "duration": 0.103207,
     "end_time": "2025-04-18T08:41:26.556698",
     "exception": false,
     "start_time": "2025-04-18T08:41:26.453491",
     "status": "completed"
    },
    "tags": []
   },
   "outputs": [
    {
     "data": {
      "text/html": [
       "<div>\n",
       "<style scoped>\n",
       "    .dataframe tbody tr th:only-of-type {\n",
       "        vertical-align: middle;\n",
       "    }\n",
       "\n",
       "    .dataframe tbody tr th {\n",
       "        vertical-align: top;\n",
       "    }\n",
       "\n",
       "    .dataframe thead th {\n",
       "        text-align: right;\n",
       "    }\n",
       "</style>\n",
       "<table border=\"1\" class=\"dataframe\">\n",
       "  <thead>\n",
       "    <tr style=\"text-align: right;\">\n",
       "      <th></th>\n",
       "      <th>Date</th>\n",
       "      <th>Time</th>\n",
       "      <th>CO(GT)</th>\n",
       "      <th>NOx(GT)</th>\n",
       "      <th>NO2(GT)</th>\n",
       "      <th>O3(GT)</th>\n",
       "      <th>SO2(GT)</th>\n",
       "      <th>PM2.5</th>\n",
       "      <th>PM10</th>\n",
       "      <th>Temperature</th>\n",
       "      <th>...</th>\n",
       "      <th>WindDirection</th>\n",
       "      <th>CO_NOx_Ratio</th>\n",
       "      <th>NOx_NO2_Ratio</th>\n",
       "      <th>Temp_Humidity_Index</th>\n",
       "      <th>AirQualityIndex</th>\n",
       "      <th>CO_MA3</th>\n",
       "      <th>NO2_MA3</th>\n",
       "      <th>O3_MA3</th>\n",
       "      <th>DayOfWeek</th>\n",
       "      <th>Hour</th>\n",
       "    </tr>\n",
       "  </thead>\n",
       "  <tbody>\n",
       "    <tr>\n",
       "      <th>0</th>\n",
       "      <td>2024-01-01</td>\n",
       "      <td>00:00</td>\n",
       "      <td>3.807947</td>\n",
       "      <td>172.026768</td>\n",
       "      <td>144.333317</td>\n",
       "      <td>118.120832</td>\n",
       "      <td>1.215679</td>\n",
       "      <td>147.349671</td>\n",
       "      <td>208.803124</td>\n",
       "      <td>28.564580</td>\n",
       "      <td>...</td>\n",
       "      <td>209.984267</td>\n",
       "      <td>0.022008</td>\n",
       "      <td>1.183671</td>\n",
       "      <td>3.541778</td>\n",
       "      <td>343.353046</td>\n",
       "      <td>3.807947</td>\n",
       "      <td>144.333317</td>\n",
       "      <td>118.120832</td>\n",
       "      <td>0</td>\n",
       "      <td>0</td>\n",
       "    </tr>\n",
       "    <tr>\n",
       "      <th>1</th>\n",
       "      <td>2024-01-01</td>\n",
       "      <td>01:00</td>\n",
       "      <td>9.512072</td>\n",
       "      <td>241.824266</td>\n",
       "      <td>137.769318</td>\n",
       "      <td>15.325830</td>\n",
       "      <td>1.016178</td>\n",
       "      <td>40.979839</td>\n",
       "      <td>145.595579</td>\n",
       "      <td>6.793192</td>\n",
       "      <td>...</td>\n",
       "      <td>319.534890</td>\n",
       "      <td>0.039173</td>\n",
       "      <td>1.742635</td>\n",
       "      <td>0.727989</td>\n",
       "      <td>206.282028</td>\n",
       "      <td>6.660009</td>\n",
       "      <td>141.051317</td>\n",
       "      <td>66.723331</td>\n",
       "      <td>0</td>\n",
       "      <td>1</td>\n",
       "    </tr>\n",
       "    <tr>\n",
       "      <th>2</th>\n",
       "      <td>2024-01-01</td>\n",
       "      <td>02:00</td>\n",
       "      <td>7.346740</td>\n",
       "      <td>228.288118</td>\n",
       "      <td>20.055086</td>\n",
       "      <td>44.377036</td>\n",
       "      <td>24.140910</td>\n",
       "      <td>72.594740</td>\n",
       "      <td>26.155000</td>\n",
       "      <td>24.436552</td>\n",
       "      <td>...</td>\n",
       "      <td>274.644300</td>\n",
       "      <td>0.032042</td>\n",
       "      <td>10.842422</td>\n",
       "      <td>7.378322</td>\n",
       "      <td>140.170920</td>\n",
       "      <td>6.888920</td>\n",
       "      <td>100.719240</td>\n",
       "      <td>59.274566</td>\n",
       "      <td>0</td>\n",
       "      <td>2</td>\n",
       "    </tr>\n",
       "    <tr>\n",
       "      <th>3</th>\n",
       "      <td>2024-01-01</td>\n",
       "      <td>03:00</td>\n",
       "      <td>6.026719</td>\n",
       "      <td>47.016072</td>\n",
       "      <td>184.591909</td>\n",
       "      <td>139.488603</td>\n",
       "      <td>2.435392</td>\n",
       "      <td>134.339724</td>\n",
       "      <td>276.367944</td>\n",
       "      <td>26.463951</td>\n",
       "      <td>...</td>\n",
       "      <td>312.266023</td>\n",
       "      <td>0.125515</td>\n",
       "      <td>0.253330</td>\n",
       "      <td>21.684266</td>\n",
       "      <td>307.928588</td>\n",
       "      <td>7.628510</td>\n",
       "      <td>114.138771</td>\n",
       "      <td>66.397156</td>\n",
       "      <td>0</td>\n",
       "      <td>3</td>\n",
       "    </tr>\n",
       "    <tr>\n",
       "      <th>4</th>\n",
       "      <td>2024-01-01</td>\n",
       "      <td>04:00</td>\n",
       "      <td>1.644585</td>\n",
       "      <td>45.625591</td>\n",
       "      <td>114.125968</td>\n",
       "      <td>95.634768</td>\n",
       "      <td>48.752095</td>\n",
       "      <td>99.007422</td>\n",
       "      <td>294.295449</td>\n",
       "      <td>10.530331</td>\n",
       "      <td>...</td>\n",
       "      <td>21.392120</td>\n",
       "      <td>0.035272</td>\n",
       "      <td>0.396310</td>\n",
       "      <td>9.627596</td>\n",
       "      <td>370.134556</td>\n",
       "      <td>5.006015</td>\n",
       "      <td>106.257654</td>\n",
       "      <td>93.166802</td>\n",
       "      <td>0</td>\n",
       "      <td>4</td>\n",
       "    </tr>\n",
       "  </tbody>\n",
       "</table>\n",
       "<p>5 rows × 23 columns</p>\n",
       "</div>"
      ],
      "text/plain": [
       "         Date   Time    CO(GT)     NOx(GT)     NO2(GT)      O3(GT)    SO2(GT)  \\\n",
       "0  2024-01-01  00:00  3.807947  172.026768  144.333317  118.120832   1.215679   \n",
       "1  2024-01-01  01:00  9.512072  241.824266  137.769318   15.325830   1.016178   \n",
       "2  2024-01-01  02:00  7.346740  228.288118   20.055086   44.377036  24.140910   \n",
       "3  2024-01-01  03:00  6.026719   47.016072  184.591909  139.488603   2.435392   \n",
       "4  2024-01-01  04:00  1.644585   45.625591  114.125968   95.634768  48.752095   \n",
       "\n",
       "        PM2.5        PM10  Temperature  ...  WindDirection  CO_NOx_Ratio  \\\n",
       "0  147.349671  208.803124    28.564580  ...     209.984267      0.022008   \n",
       "1   40.979839  145.595579     6.793192  ...     319.534890      0.039173   \n",
       "2   72.594740   26.155000    24.436552  ...     274.644300      0.032042   \n",
       "3  134.339724  276.367944    26.463951  ...     312.266023      0.125515   \n",
       "4   99.007422  294.295449    10.530331  ...      21.392120      0.035272   \n",
       "\n",
       "   NOx_NO2_Ratio  Temp_Humidity_Index  AirQualityIndex    CO_MA3     NO2_MA3  \\\n",
       "0       1.183671             3.541778       343.353046  3.807947  144.333317   \n",
       "1       1.742635             0.727989       206.282028  6.660009  141.051317   \n",
       "2      10.842422             7.378322       140.170920  6.888920  100.719240   \n",
       "3       0.253330            21.684266       307.928588  7.628510  114.138771   \n",
       "4       0.396310             9.627596       370.134556  5.006015  106.257654   \n",
       "\n",
       "       O3_MA3  DayOfWeek  Hour  \n",
       "0  118.120832          0     0  \n",
       "1   66.723331          0     1  \n",
       "2   59.274566          0     2  \n",
       "3   66.397156          0     3  \n",
       "4   93.166802          0     4  \n",
       "\n",
       "[5 rows x 23 columns]"
      ]
     },
     "execution_count": 3,
     "metadata": {},
     "output_type": "execute_result"
    }
   ],
   "source": [
    "# load data\n",
    "df = pd.read_csv('/kaggle/input/air-quality-data/AirQualityData.csv')\n",
    "df.head()"
   ]
  },
  {
   "cell_type": "code",
   "execution_count": null,
   "id": "f9c1b2f8",
   "metadata": {
    "execution": {
     "iopub.execute_input": "2025-04-18T08:41:26.568525Z",
     "iopub.status.busy": "2025-04-18T08:41:26.568251Z",
     "iopub.status.idle": "2025-04-18T08:41:26.596563Z",
     "shell.execute_reply": "2025-04-18T08:41:26.595550Z"
    },
    "papermill": {
     "duration": 0.035799,
     "end_time": "2025-04-18T08:41:26.597999",
     "exception": false,
     "start_time": "2025-04-18T08:41:26.562200",
     "status": "completed"
    },
    "tags": []
   },
   "outputs": [
    {
     "name": "stdout",
     "output_type": "stream",
     "text": [
      "<class 'pandas.core.frame.DataFrame'>\n",
      "RangeIndex: 4000 entries, 0 to 3999\n",
      "Data columns (total 23 columns):\n",
      " #   Column               Non-Null Count  Dtype  \n",
      "---  ------               --------------  -----  \n",
      " 0   Date                 4000 non-null   object \n",
      " 1   Time                 4000 non-null   object \n",
      " 2   CO(GT)               4000 non-null   float64\n",
      " 3   NOx(GT)              4000 non-null   float64\n",
      " 4   NO2(GT)              4000 non-null   float64\n",
      " 5   O3(GT)               4000 non-null   float64\n",
      " 6   SO2(GT)              4000 non-null   float64\n",
      " 7   PM2.5                4000 non-null   float64\n",
      " 8   PM10                 4000 non-null   float64\n",
      " 9   Temperature          4000 non-null   float64\n",
      " 10  Humidity             4000 non-null   float64\n",
      " 11  Pressure             4000 non-null   float64\n",
      " 12  WindSpeed            4000 non-null   float64\n",
      " 13  WindDirection        4000 non-null   float64\n",
      " 14  CO_NOx_Ratio         4000 non-null   float64\n",
      " 15  NOx_NO2_Ratio        4000 non-null   float64\n",
      " 16  Temp_Humidity_Index  4000 non-null   float64\n",
      " 17  AirQualityIndex      4000 non-null   float64\n",
      " 18  CO_MA3               4000 non-null   float64\n",
      " 19  NO2_MA3              4000 non-null   float64\n",
      " 20  O3_MA3               4000 non-null   float64\n",
      " 21  DayOfWeek            4000 non-null   int64  \n",
      " 22  Hour                 4000 non-null   int64  \n",
      "dtypes: float64(19), int64(2), object(2)\n",
      "memory usage: 718.9+ KB\n"
     ]
    }
   ],
   "source": [
    "# basic info\n",
    "df.info()"
   ]
  },
  {
   "cell_type": "code",
   "execution_count": null,
   "id": "9ec5a502",
   "metadata": {
    "execution": {
     "iopub.execute_input": "2025-04-18T08:41:26.609906Z",
     "iopub.status.busy": "2025-04-18T08:41:26.609385Z",
     "iopub.status.idle": "2025-04-18T08:41:26.616903Z",
     "shell.execute_reply": "2025-04-18T08:41:26.616089Z"
    },
    "papermill": {
     "duration": 0.014706,
     "end_time": "2025-04-18T08:41:26.618170",
     "exception": false,
     "start_time": "2025-04-18T08:41:26.603464",
     "status": "completed"
    },
    "tags": []
   },
   "outputs": [
    {
     "data": {
      "text/plain": [
       "Date                   0\n",
       "Time                   0\n",
       "CO(GT)                 0\n",
       "NOx(GT)                0\n",
       "NO2(GT)                0\n",
       "O3(GT)                 0\n",
       "SO2(GT)                0\n",
       "PM2.5                  0\n",
       "PM10                   0\n",
       "Temperature            0\n",
       "Humidity               0\n",
       "Pressure               0\n",
       "WindSpeed              0\n",
       "WindDirection          0\n",
       "CO_NOx_Ratio           0\n",
       "NOx_NO2_Ratio          0\n",
       "Temp_Humidity_Index    0\n",
       "AirQualityIndex        0\n",
       "CO_MA3                 0\n",
       "NO2_MA3                0\n",
       "O3_MA3                 0\n",
       "DayOfWeek              0\n",
       "Hour                   0\n",
       "dtype: int64"
      ]
     },
     "execution_count": 5,
     "metadata": {},
     "output_type": "execute_result"
    }
   ],
   "source": [
    "# null values\n",
    "df.isnull().sum()"
   ]
  },
  {
   "cell_type": "code",
   "execution_count": null,
   "id": "153d7b76",
   "metadata": {
    "execution": {
     "iopub.execute_input": "2025-04-18T08:41:26.630357Z",
     "iopub.status.busy": "2025-04-18T08:41:26.630086Z",
     "iopub.status.idle": "2025-04-18T08:41:26.641215Z",
     "shell.execute_reply": "2025-04-18T08:41:26.640388Z"
    },
    "papermill": {
     "duration": 0.018845,
     "end_time": "2025-04-18T08:41:26.642527",
     "exception": false,
     "start_time": "2025-04-18T08:41:26.623682",
     "status": "completed"
    },
    "tags": []
   },
   "outputs": [
    {
     "data": {
      "text/plain": [
       "0"
      ]
     },
     "execution_count": 6,
     "metadata": {},
     "output_type": "execute_result"
    }
   ],
   "source": [
    "# duplicates\n",
    "df.duplicated().sum()"
   ]
  },
  {
   "cell_type": "code",
   "execution_count": null,
   "id": "ae5d28df",
   "metadata": {
    "execution": {
     "iopub.execute_input": "2025-04-18T08:41:26.654974Z",
     "iopub.status.busy": "2025-04-18T08:41:26.654615Z",
     "iopub.status.idle": "2025-04-18T08:41:26.709122Z",
     "shell.execute_reply": "2025-04-18T08:41:26.708215Z"
    },
    "papermill": {
     "duration": 0.062314,
     "end_time": "2025-04-18T08:41:26.710508",
     "exception": false,
     "start_time": "2025-04-18T08:41:26.648194",
     "status": "completed"
    },
    "tags": []
   },
   "outputs": [
    {
     "data": {
      "text/html": [
       "<div>\n",
       "<style scoped>\n",
       "    .dataframe tbody tr th:only-of-type {\n",
       "        vertical-align: middle;\n",
       "    }\n",
       "\n",
       "    .dataframe tbody tr th {\n",
       "        vertical-align: top;\n",
       "    }\n",
       "\n",
       "    .dataframe thead th {\n",
       "        text-align: right;\n",
       "    }\n",
       "</style>\n",
       "<table border=\"1\" class=\"dataframe\">\n",
       "  <thead>\n",
       "    <tr style=\"text-align: right;\">\n",
       "      <th></th>\n",
       "      <th>CO(GT)</th>\n",
       "      <th>NOx(GT)</th>\n",
       "      <th>NO2(GT)</th>\n",
       "      <th>O3(GT)</th>\n",
       "      <th>SO2(GT)</th>\n",
       "      <th>PM2.5</th>\n",
       "      <th>PM10</th>\n",
       "      <th>Temperature</th>\n",
       "      <th>Humidity</th>\n",
       "      <th>Pressure</th>\n",
       "      <th>...</th>\n",
       "      <th>WindDirection</th>\n",
       "      <th>CO_NOx_Ratio</th>\n",
       "      <th>NOx_NO2_Ratio</th>\n",
       "      <th>Temp_Humidity_Index</th>\n",
       "      <th>AirQualityIndex</th>\n",
       "      <th>CO_MA3</th>\n",
       "      <th>NO2_MA3</th>\n",
       "      <th>O3_MA3</th>\n",
       "      <th>DayOfWeek</th>\n",
       "      <th>Hour</th>\n",
       "    </tr>\n",
       "  </thead>\n",
       "  <tbody>\n",
       "    <tr>\n",
       "      <th>count</th>\n",
       "      <td>4000.000000</td>\n",
       "      <td>4000.000000</td>\n",
       "      <td>4000.000000</td>\n",
       "      <td>4000.000000</td>\n",
       "      <td>4000.000000</td>\n",
       "      <td>4000.000000</td>\n",
       "      <td>4000.000000</td>\n",
       "      <td>4000.000000</td>\n",
       "      <td>4000.000000</td>\n",
       "      <td>4000.000000</td>\n",
       "      <td>...</td>\n",
       "      <td>4000.000000</td>\n",
       "      <td>4000.000000</td>\n",
       "      <td>4000.000000</td>\n",
       "      <td>4000.000000</td>\n",
       "      <td>4000.000000</td>\n",
       "      <td>4000.000000</td>\n",
       "      <td>4000.000000</td>\n",
       "      <td>4000.000000</td>\n",
       "      <td>4000.000000</td>\n",
       "      <td>4000.000000</td>\n",
       "    </tr>\n",
       "    <tr>\n",
       "      <th>mean</th>\n",
       "      <td>5.025385</td>\n",
       "      <td>148.126633</td>\n",
       "      <td>100.213189</td>\n",
       "      <td>89.914815</td>\n",
       "      <td>26.081045</td>\n",
       "      <td>104.765999</td>\n",
       "      <td>153.591417</td>\n",
       "      <td>17.305228</td>\n",
       "      <td>54.626284</td>\n",
       "      <td>999.862679</td>\n",
       "      <td>...</td>\n",
       "      <td>179.571724</td>\n",
       "      <td>0.082564</td>\n",
       "      <td>3.412176</td>\n",
       "      <td>9.418823</td>\n",
       "      <td>249.602455</td>\n",
       "      <td>5.025846</td>\n",
       "      <td>100.222672</td>\n",
       "      <td>89.901700</td>\n",
       "      <td>2.978000</td>\n",
       "      <td>11.484000</td>\n",
       "    </tr>\n",
       "    <tr>\n",
       "      <th>std</th>\n",
       "      <td>2.874632</td>\n",
       "      <td>85.999247</td>\n",
       "      <td>57.074947</td>\n",
       "      <td>52.003484</td>\n",
       "      <td>14.059684</td>\n",
       "      <td>56.344868</td>\n",
       "      <td>83.080911</td>\n",
       "      <td>12.943632</td>\n",
       "      <td>25.844003</td>\n",
       "      <td>28.897118</td>\n",
       "      <td>...</td>\n",
       "      <td>104.738760</td>\n",
       "      <td>0.215593</td>\n",
       "      <td>7.996062</td>\n",
       "      <td>8.982090</td>\n",
       "      <td>143.570929</td>\n",
       "      <td>1.672715</td>\n",
       "      <td>32.884870</td>\n",
       "      <td>30.505331</td>\n",
       "      <td>1.992614</td>\n",
       "      <td>6.919951</td>\n",
       "    </tr>\n",
       "    <tr>\n",
       "      <th>min</th>\n",
       "      <td>0.100115</td>\n",
       "      <td>1.009185</td>\n",
       "      <td>1.010513</td>\n",
       "      <td>1.055442</td>\n",
       "      <td>1.012370</td>\n",
       "      <td>5.009384</td>\n",
       "      <td>10.031967</td>\n",
       "      <td>-4.996963</td>\n",
       "      <td>10.000498</td>\n",
       "      <td>950.018004</td>\n",
       "      <td>...</td>\n",
       "      <td>0.033694</td>\n",
       "      <td>0.000389</td>\n",
       "      <td>0.006021</td>\n",
       "      <td>-4.824570</td>\n",
       "      <td>0.052355</td>\n",
       "      <td>0.612983</td>\n",
       "      <td>3.702628</td>\n",
       "      <td>7.453898</td>\n",
       "      <td>0.000000</td>\n",
       "      <td>0.000000</td>\n",
       "    </tr>\n",
       "    <tr>\n",
       "      <th>25%</th>\n",
       "      <td>2.514242</td>\n",
       "      <td>73.636615</td>\n",
       "      <td>51.326622</td>\n",
       "      <td>44.179487</td>\n",
       "      <td>14.220565</td>\n",
       "      <td>56.544378</td>\n",
       "      <td>82.200105</td>\n",
       "      <td>6.092531</td>\n",
       "      <td>31.970628</td>\n",
       "      <td>975.018939</td>\n",
       "      <td>...</td>\n",
       "      <td>86.409827</td>\n",
       "      <td>0.017033</td>\n",
       "      <td>0.719052</td>\n",
       "      <td>2.551932</td>\n",
       "      <td>124.521801</td>\n",
       "      <td>3.846779</td>\n",
       "      <td>77.100651</td>\n",
       "      <td>68.321846</td>\n",
       "      <td>1.000000</td>\n",
       "      <td>5.000000</td>\n",
       "    </tr>\n",
       "    <tr>\n",
       "      <th>50%</th>\n",
       "      <td>5.054973</td>\n",
       "      <td>146.440690</td>\n",
       "      <td>99.508855</td>\n",
       "      <td>88.956924</td>\n",
       "      <td>26.321359</td>\n",
       "      <td>105.502686</td>\n",
       "      <td>154.714484</td>\n",
       "      <td>17.184773</td>\n",
       "      <td>55.113650</td>\n",
       "      <td>999.857722</td>\n",
       "      <td>...</td>\n",
       "      <td>179.401393</td>\n",
       "      <td>0.034021</td>\n",
       "      <td>1.467460</td>\n",
       "      <td>6.975287</td>\n",
       "      <td>250.552671</td>\n",
       "      <td>5.042259</td>\n",
       "      <td>100.128466</td>\n",
       "      <td>90.452301</td>\n",
       "      <td>3.000000</td>\n",
       "      <td>11.000000</td>\n",
       "    </tr>\n",
       "    <tr>\n",
       "      <th>75%</th>\n",
       "      <td>7.524652</td>\n",
       "      <td>221.823697</td>\n",
       "      <td>149.666167</td>\n",
       "      <td>136.333683</td>\n",
       "      <td>37.833728</td>\n",
       "      <td>153.751364</td>\n",
       "      <td>222.969347</td>\n",
       "      <td>28.573093</td>\n",
       "      <td>76.311009</td>\n",
       "      <td>1024.763352</td>\n",
       "      <td>...</td>\n",
       "      <td>272.370032</td>\n",
       "      <td>0.065973</td>\n",
       "      <td>2.789423</td>\n",
       "      <td>14.752847</td>\n",
       "      <td>370.997732</td>\n",
       "      <td>6.206658</td>\n",
       "      <td>123.919621</td>\n",
       "      <td>111.337587</td>\n",
       "      <td>5.000000</td>\n",
       "      <td>17.000000</td>\n",
       "    </tr>\n",
       "    <tr>\n",
       "      <th>max</th>\n",
       "      <td>9.997205</td>\n",
       "      <td>299.838744</td>\n",
       "      <td>199.934968</td>\n",
       "      <td>179.986544</td>\n",
       "      <td>49.993700</td>\n",
       "      <td>199.980691</td>\n",
       "      <td>299.911727</td>\n",
       "      <td>39.987944</td>\n",
       "      <td>99.981043</td>\n",
       "      <td>1049.926869</td>\n",
       "      <td>...</td>\n",
       "      <td>359.984504</td>\n",
       "      <td>4.078615</td>\n",
       "      <td>131.169948</td>\n",
       "      <td>39.372679</td>\n",
       "      <td>499.920650</td>\n",
       "      <td>9.471079</td>\n",
       "      <td>190.781333</td>\n",
       "      <td>173.546840</td>\n",
       "      <td>6.000000</td>\n",
       "      <td>23.000000</td>\n",
       "    </tr>\n",
       "  </tbody>\n",
       "</table>\n",
       "<p>8 rows × 21 columns</p>\n",
       "</div>"
      ],
      "text/plain": [
       "            CO(GT)      NOx(GT)      NO2(GT)       O3(GT)      SO2(GT)  \\\n",
       "count  4000.000000  4000.000000  4000.000000  4000.000000  4000.000000   \n",
       "mean      5.025385   148.126633   100.213189    89.914815    26.081045   \n",
       "std       2.874632    85.999247    57.074947    52.003484    14.059684   \n",
       "min       0.100115     1.009185     1.010513     1.055442     1.012370   \n",
       "25%       2.514242    73.636615    51.326622    44.179487    14.220565   \n",
       "50%       5.054973   146.440690    99.508855    88.956924    26.321359   \n",
       "75%       7.524652   221.823697   149.666167   136.333683    37.833728   \n",
       "max       9.997205   299.838744   199.934968   179.986544    49.993700   \n",
       "\n",
       "             PM2.5         PM10  Temperature     Humidity     Pressure  ...  \\\n",
       "count  4000.000000  4000.000000  4000.000000  4000.000000  4000.000000  ...   \n",
       "mean    104.765999   153.591417    17.305228    54.626284   999.862679  ...   \n",
       "std      56.344868    83.080911    12.943632    25.844003    28.897118  ...   \n",
       "min       5.009384    10.031967    -4.996963    10.000498   950.018004  ...   \n",
       "25%      56.544378    82.200105     6.092531    31.970628   975.018939  ...   \n",
       "50%     105.502686   154.714484    17.184773    55.113650   999.857722  ...   \n",
       "75%     153.751364   222.969347    28.573093    76.311009  1024.763352  ...   \n",
       "max     199.980691   299.911727    39.987944    99.981043  1049.926869  ...   \n",
       "\n",
       "       WindDirection  CO_NOx_Ratio  NOx_NO2_Ratio  Temp_Humidity_Index  \\\n",
       "count    4000.000000   4000.000000    4000.000000          4000.000000   \n",
       "mean      179.571724      0.082564       3.412176             9.418823   \n",
       "std       104.738760      0.215593       7.996062             8.982090   \n",
       "min         0.033694      0.000389       0.006021            -4.824570   \n",
       "25%        86.409827      0.017033       0.719052             2.551932   \n",
       "50%       179.401393      0.034021       1.467460             6.975287   \n",
       "75%       272.370032      0.065973       2.789423            14.752847   \n",
       "max       359.984504      4.078615     131.169948            39.372679   \n",
       "\n",
       "       AirQualityIndex       CO_MA3      NO2_MA3       O3_MA3    DayOfWeek  \\\n",
       "count      4000.000000  4000.000000  4000.000000  4000.000000  4000.000000   \n",
       "mean        249.602455     5.025846   100.222672    89.901700     2.978000   \n",
       "std         143.570929     1.672715    32.884870    30.505331     1.992614   \n",
       "min           0.052355     0.612983     3.702628     7.453898     0.000000   \n",
       "25%         124.521801     3.846779    77.100651    68.321846     1.000000   \n",
       "50%         250.552671     5.042259   100.128466    90.452301     3.000000   \n",
       "75%         370.997732     6.206658   123.919621   111.337587     5.000000   \n",
       "max         499.920650     9.471079   190.781333   173.546840     6.000000   \n",
       "\n",
       "              Hour  \n",
       "count  4000.000000  \n",
       "mean     11.484000  \n",
       "std       6.919951  \n",
       "min       0.000000  \n",
       "25%       5.000000  \n",
       "50%      11.000000  \n",
       "75%      17.000000  \n",
       "max      23.000000  \n",
       "\n",
       "[8 rows x 21 columns]"
      ]
     },
     "execution_count": 7,
     "metadata": {},
     "output_type": "execute_result"
    }
   ],
   "source": [
    "# summary statistics\n",
    "df.describe()"
   ]
  },
  {
   "cell_type": "code",
   "execution_count": null,
   "id": "c8ab04e2",
   "metadata": {
    "execution": {
     "iopub.execute_input": "2025-04-18T08:41:26.724164Z",
     "iopub.status.busy": "2025-04-18T08:41:26.723428Z",
     "iopub.status.idle": "2025-04-18T08:41:26.735748Z",
     "shell.execute_reply": "2025-04-18T08:41:26.735113Z"
    },
    "papermill": {
     "duration": 0.02039,
     "end_time": "2025-04-18T08:41:26.737183",
     "exception": false,
     "start_time": "2025-04-18T08:41:26.716793",
     "status": "completed"
    },
    "tags": []
   },
   "outputs": [],
   "source": [
    "# Combine Date and Time to one Datetime column, set it as index and drop the rest\n",
    "df['Datetime'] = pd.to_datetime(df['Date'] + ' ' + df['Time']) \n",
    "df.set_index('Datetime', inplace=True) \n",
    "df.drop(['Date', 'Time'], axis=1, inplace=True)"
   ]
  },
  {
   "cell_type": "code",
   "execution_count": null,
   "id": "ae84dbcb",
   "metadata": {
    "execution": {
     "iopub.execute_input": "2025-04-18T08:41:26.750570Z",
     "iopub.status.busy": "2025-04-18T08:41:26.749992Z",
     "iopub.status.idle": "2025-04-18T08:41:26.763648Z",
     "shell.execute_reply": "2025-04-18T08:41:26.762682Z"
    },
    "papermill": {
     "duration": 0.021771,
     "end_time": "2025-04-18T08:41:26.765015",
     "exception": false,
     "start_time": "2025-04-18T08:41:26.743244",
     "status": "completed"
    },
    "tags": []
   },
   "outputs": [
    {
     "name": "stdout",
     "output_type": "stream",
     "text": [
      "Number of outliers per column:\n",
      " CO(GT)                   0\n",
      "NOx(GT)                  0\n",
      "NO2(GT)                  0\n",
      "O3(GT)                   0\n",
      "SO2(GT)                  0\n",
      "PM2.5                    0\n",
      "PM10                     0\n",
      "Temperature              0\n",
      "Humidity                 0\n",
      "Pressure                 0\n",
      "WindSpeed                0\n",
      "WindDirection            0\n",
      "CO_NOx_Ratio           459\n",
      "NOx_NO2_Ratio          444\n",
      "Temp_Humidity_Index     57\n",
      "AirQualityIndex          0\n",
      "CO_MA3                   0\n",
      "NO2_MA3                  2\n",
      "O3_MA3                   0\n",
      "DayOfWeek                0\n",
      "Hour                     0\n",
      "dtype: int64\n"
     ]
    }
   ],
   "source": [
    "# Check for outliers using IQR method\n",
    "Q1 = df.quantile(0.25) \n",
    "Q3 = df.quantile(0.75) \n",
    "IQR = Q3 - Q1 \n",
    "outliers = ((df < (Q1 - 1.5 * IQR)) | (df > (Q3 + 1.5 * IQR))).sum() \n",
    "print(\"Number of outliers per column:\\n\", outliers)"
   ]
  },
  {
   "cell_type": "code",
   "execution_count": null,
   "id": "82ce00a2",
   "metadata": {
    "execution": {
     "iopub.execute_input": "2025-04-18T08:41:26.778455Z",
     "iopub.status.busy": "2025-04-18T08:41:26.777761Z",
     "iopub.status.idle": "2025-04-18T08:41:27.894691Z",
     "shell.execute_reply": "2025-04-18T08:41:27.893874Z"
    },
    "papermill": {
     "duration": 1.125494,
     "end_time": "2025-04-18T08:41:27.896607",
     "exception": false,
     "start_time": "2025-04-18T08:41:26.771113",
     "status": "completed"
    },
    "tags": []
   },
   "outputs": [
    {
     "data": {
      "image/png": "[encoded data removed]",
      "text/plain": [
       "<Figure size 1200x800 with 4 Axes>"
      ]
     },
     "metadata": {},
     "output_type": "display_data"
    }
   ],
   "source": [
    "# Visualize distributions of key features\n",
    "plt.figure(figsize=(12, 8)) \n",
    "for i, col in enumerate(['CO(GT)', 'NO2(GT)', 'PM2.5', 'AirQualityIndex']): \n",
    "    plt.subplot(2, 2, i+1) \n",
    "    sns.histplot(df[col], kde=True) \n",
    "    plt.title(f'Distribution of {col}') \n",
    "plt.tight_layout()\n",
    "plt.show()"
   ]
  },
  {
   "cell_type": "code",
   "execution_count": null,
   "id": "2c25c1be",
   "metadata": {
    "execution": {
     "iopub.execute_input": "2025-04-18T08:41:27.913415Z",
     "iopub.status.busy": "2025-04-18T08:41:27.912667Z",
     "iopub.status.idle": "2025-04-18T08:41:27.917998Z",
     "shell.execute_reply": "2025-04-18T08:41:27.917181Z"
    },
    "papermill": {
     "duration": 0.014632,
     "end_time": "2025-04-18T08:41:27.919264",
     "exception": false,
     "start_time": "2025-04-18T08:41:27.904632",
     "status": "completed"
    },
    "tags": []
   },
   "outputs": [],
   "source": [
    "# Define features and target\n",
    "\n",
    "X = df.drop('AirQualityIndex', axis=1) \n",
    "y = df['AirQualityIndex']"
   ]
  },
  {
   "cell_type": "code",
   "execution_count": null,
   "id": "97994a0b",
   "metadata": {
    "execution": {
     "iopub.execute_input": "2025-04-18T08:41:27.935030Z",
     "iopub.status.busy": "2025-04-18T08:41:27.934306Z",
     "iopub.status.idle": "2025-04-18T08:41:27.941080Z",
     "shell.execute_reply": "2025-04-18T08:41:27.940260Z"
    },
    "papermill": {
     "duration": 0.016117,
     "end_time": "2025-04-18T08:41:27.942433",
     "exception": false,
     "start_time": "2025-04-18T08:41:27.926316",
     "status": "completed"
    },
    "tags": []
   },
   "outputs": [],
   "source": [
    "# Split data into training and test sets\n",
    "\n",
    "X_train, X_test, y_train, y_test = train_test_split(X, y, test_size=0.2, random_state=42)"
   ]
  },
  {
   "cell_type": "code",
   "execution_count": null,
   "id": "774fe7c5",
   "metadata": {
    "execution": {
     "iopub.execute_input": "2025-04-18T08:41:27.957777Z",
     "iopub.status.busy": "2025-04-18T08:41:27.957325Z",
     "iopub.status.idle": "2025-04-18T08:41:27.996171Z",
     "shell.execute_reply": "2025-04-18T08:41:27.995232Z"
    },
    "papermill": {
     "duration": 0.048244,
     "end_time": "2025-04-18T08:41:27.997749",
     "exception": false,
     "start_time": "2025-04-18T08:41:27.949505",
     "status": "completed"
    },
    "tags": []
   },
   "outputs": [],
   "source": [
    "# Scale numerical features\n",
    "\n",
    "scaler = StandardScaler() \n",
    "X_train_scaled = scaler.fit_transform(X_train) \n",
    "X_test_scaled = scaler.transform(X_test)"
   ]
  },
  {
   "cell_type": "code",
   "execution_count": null,
   "id": "3890e163",
   "metadata": {
    "execution": {
     "iopub.execute_input": "2025-04-18T08:41:28.014355Z",
     "iopub.status.busy": "2025-04-18T08:41:28.014075Z",
     "iopub.status.idle": "2025-04-18T08:41:28.019991Z",
     "shell.execute_reply": "2025-04-18T08:41:28.018913Z"
    },
    "papermill": {
     "duration": 0.016073,
     "end_time": "2025-04-18T08:41:28.021482",
     "exception": false,
     "start_time": "2025-04-18T08:41:28.005409",
     "status": "completed"
    },
    "tags": []
   },
   "outputs": [
    {
     "name": "stdout",
     "output_type": "stream",
     "text": [
      "Scaled training data shape: (3200, 20)\n",
      "Scaled test data shape: (800, 20)\n",
      "Sample of scaled training data:\n",
      " [[-6.75029482e-03 -1.30312440e+00  1.66136652e+00  1.53022503e+00\n",
      "   1.33572072e+00 -1.23721591e+00  1.24891491e+00 -2.36471842e-01\n",
      "  -5.24740827e-01  1.47695693e+00  1.45121701e+00 -8.87362978e-01\n",
      "   2.69038197e-01 -3.89624291e-01 -3.99940538e-01 -3.76298168e-01\n",
      "   9.52497545e-01  1.90467083e+00  1.01326096e+00 -2.25038172e-01]\n",
      " [-2.35583836e-04  8.30185140e-01 -1.70103828e+00 -1.08150722e-01\n",
      "   6.90608601e-01  1.17541198e-01  1.00299274e+00 -1.00188709e-01\n",
      "   1.72994208e+00 -1.22172016e+00 -3.32810651e-01 -2.42495305e-01\n",
      "  -2.87800667e-01  5.63484882e+00  7.21771267e-01 -2.21585733e-01\n",
      "  -1.99877341e+00 -8.63946903e-01  1.01874652e-02  4.99430792e-01]\n",
      " [ 1.05592694e+00 -8.71099890e-01  3.98029695e-01  2.87766444e-01\n",
      "  -1.73177725e+00  5.44298463e-01 -1.62901188e+00  1.64795921e+00\n",
      "   9.49137665e-01  8.02422823e-01  4.93829453e-01 -6.28878351e-01\n",
      "   1.38106493e-01 -3.41678051e-01  2.35469348e+00  6.92918281e-01\n",
      "   9.08969482e-01  1.70956272e+00  1.01326096e+00  4.99430792e-01]\n",
      " [-1.18697144e+00 -5.66339714e-02  3.09713705e-01  1.68346490e+00\n",
      "   7.63274185e-02  8.16157887e-01  1.55515909e+00 -7.60140431e-02\n",
      "   1.09564044e+00 -1.59829437e-01 -1.71090075e+00  1.55554156e+00\n",
      "  -3.45565127e-01 -2.69267252e-01  4.57742777e-01 -2.21710311e-01\n",
      "  -1.36844277e+00  5.33264540e-01 -9.92886034e-01  1.36879355e+00]\n",
      " [ 1.43930360e+00  8.50937691e-01 -1.73972508e+00  5.84388475e-01\n",
      "   2.66059504e-01  4.54158490e-01 -1.39911955e+00 -1.02084213e+00\n",
      "  -1.41405008e+00 -5.65083685e-01 -4.89195430e-01 -8.60922879e-01\n",
      "  -1.96254007e-01  1.21610987e+01 -9.68721754e-01  5.29039770e-01\n",
      "  -1.21451624e+00  1.02816613e+00 -1.49442278e+00 -1.38418852e+00]]\n"
     ]
    }
   ],
   "source": [
    "# Display basic statistics of scaled data\n",
    "\n",
    "print(\"Scaled training data shape:\", X_train_scaled.shape) \n",
    "print(\"Scaled test data shape:\", X_test_scaled.shape) \n",
    "print(\"Sample of scaled training data:\\n\", X_train_scaled[:5])"
   ]
  },
  {
   "cell_type": "markdown",
   "id": "6b0b5a64",
   "metadata": {
    "papermill": {
     "duration": 0.007433,
     "end_time": "2025-04-18T08:41:28.036376",
     "exception": false,
     "start_time": "2025-04-18T08:41:28.028943",
     "status": "completed"
    },
    "tags": []
   },
   "source": [
    "#### **Insights**\n",
    "\n",
    "- Most columns (e.g., CO(GT), NOx(GT), PM2.5, AirQualityIndex) have zero outliers, indicating that the core pollutant and target variables are within expected ranges based on the IQR method.\n",
    "- CO_NOx_Ratio (459 outliers) and NOx_NO2_Ratio (444 outliers) show significant outliers, likely due to extreme values in pollutant ratios caused by low denominators (e.g., near-zero NOx or NO2 values). This suggests potential instability in these derived features.\n",
    "- Temp_Humidity_Index (57 outliers) and NO2_MA3 (2 outliers) have fewer outliers, indicating relatively stable distributions but some extreme interactions between temperature/humidity or smoothed NO2 values.\n",
    "- We may need to handle or cap outliers in CO_NOx_Ratio and NOx_NO2_Ratio during feature engineering to prevent model instability.\n",
    "- CO(GT), NO2(GT), PM2.5, and AirQualityIndex have relatively uniform histogram counts (200–250 bins), suggesting smooth, possibly normal or slightly skewed distributions.\n",
    "- The even distribution of counts implies no extreme skew in these key features, which is favorable for linear models but may require further investigation for potential multimodality or tails (e.g., PM2.5 can have spikes during pollution events)."
   ]
  },
  {
   "cell_type": "markdown",
   "id": "477eaa85",
   "metadata": {
    "papermill": {
     "duration": 0.006995,
     "end_time": "2025-04-18T08:41:28.050913",
     "exception": false,
     "start_time": "2025-04-18T08:41:28.043918",
     "status": "completed"
    },
    "tags": []
   },
   "source": [
    "## **Feature Engineering**\n",
    "\n",
    "In this step, we’ll enhance the dataset by creating new features, handling outliers, and removing redundant or low-importance features based on correlation analysis. The goal here is to capture temporal patterns, model interactions between pollutants and meteorological variables, and reduce feature redundancy which will improve model performance."
   ]
  },
  {
   "cell_type": "code",
   "execution_count": null,
   "id": "a3a8f5c6",
   "metadata": {
    "execution": {
     "iopub.execute_input": "2025-04-18T08:41:28.066936Z",
     "iopub.status.busy": "2025-04-18T08:41:28.066382Z",
     "iopub.status.idle": "2025-04-18T08:41:28.071589Z",
     "shell.execute_reply": "2025-04-18T08:41:28.070764Z"
    },
    "papermill": {
     "duration": 0.014673,
     "end_time": "2025-04-18T08:41:28.072942",
     "exception": false,
     "start_time": "2025-04-18T08:41:28.058269",
     "status": "completed"
    },
    "tags": []
   },
   "outputs": [],
   "source": [
    "# Convert scaled data to DataFrame for feature engineering\n",
    "columns = ['CO(GT)', 'NOx(GT)', 'NO2(GT)', 'O3(GT)', 'SO2(GT)', 'PM2.5', 'PM10', \n",
    "           'Temperature', 'Humidity', 'Pressure', 'WindSpeed', 'WindDirection', \n",
    "           'CO_NOx_Ratio', 'NOx_NO2_Ratio', 'Temp_Humidity_Index', 'CO_MA3', \n",
    "           'NO2_MA3', 'O3_MA3', 'DayOfWeek', 'Hour']\n",
    "X_train_df = pd.DataFrame(X_train_scaled, columns=columns)\n",
    "X_test_df = pd.DataFrame(X_test_scaled, columns=columns)"
   ]
  },
  {
   "cell_type": "code",
   "execution_count": null,
   "id": "5b33036f",
   "metadata": {
    "execution": {
     "iopub.execute_input": "2025-04-18T08:41:28.088784Z",
     "iopub.status.busy": "2025-04-18T08:41:28.088534Z",
     "iopub.status.idle": "2025-04-18T08:41:28.093138Z",
     "shell.execute_reply": "2025-04-18T08:41:28.092554Z"
    },
    "papermill": {
     "duration": 0.013994,
     "end_time": "2025-04-18T08:41:28.094353",
     "exception": false,
     "start_time": "2025-04-18T08:41:28.080359",
     "status": "completed"
    },
    "tags": []
   },
   "outputs": [],
   "source": [
    "# Reconstruct train/test indices from original split\n",
    "train_indices = df.index[X_train_df.index]\n",
    "test_indices = df.index[X_test_df.index]\n",
    "X_train_df.index = train_indices\n",
    "X_test_df.index = test_indices"
   ]
  },
  {
   "cell_type": "code",
   "execution_count": null,
   "id": "1d99ac49",
   "metadata": {
    "execution": {
     "iopub.execute_input": "2025-04-18T08:41:28.109647Z",
     "iopub.status.busy": "2025-04-18T08:41:28.109376Z",
     "iopub.status.idle": "2025-04-18T08:41:28.118657Z",
     "shell.execute_reply": "2025-04-18T08:41:28.118087Z"
    },
    "papermill": {
     "duration": 0.018424,
     "end_time": "2025-04-18T08:41:28.120018",
     "exception": false,
     "start_time": "2025-04-18T08:41:28.101594",
     "status": "completed"
    },
    "tags": []
   },
   "outputs": [],
   "source": [
    "# Extract Month and Season from Datetime index\n",
    "X_train_df['Month'] = X_train_df.index.month\n",
    "X_test_df['Month'] = X_test_df.index.month\n",
    "\n",
    "def get_season(month):\n",
    "    if month in [12, 1, 2]:\n",
    "        return 1  # Winter\n",
    "    elif month in [3, 4, 5]:\n",
    "        return 2  # Spring\n",
    "    elif month in [6, 7, 8]:\n",
    "        return 3  # Summer\n",
    "    else:\n",
    "        return 4  # Fall\n",
    "\n",
    "X_train_df['Season'] = X_train_df['Month'].apply(get_season)\n",
    "X_test_df['Season'] = X_test_df['Month'].apply(get_season)"
   ]
  },
  {
   "cell_type": "code",
   "execution_count": null,
   "id": "64d0bbff",
   "metadata": {
    "execution": {
     "iopub.execute_input": "2025-04-18T08:41:28.135590Z",
     "iopub.status.busy": "2025-04-18T08:41:28.135326Z",
     "iopub.status.idle": "2025-04-18T08:41:28.142459Z",
     "shell.execute_reply": "2025-04-18T08:41:28.141837Z"
    },
    "papermill": {
     "duration": 0.016274,
     "end_time": "2025-04-18T08:41:28.143670",
     "exception": false,
     "start_time": "2025-04-18T08:41:28.127396",
     "status": "completed"
    },
    "tags": []
   },
   "outputs": [],
   "source": [
    "# Create interaction terms\n",
    "X_train_df['PM2.5_Temperature'] = X_train_df['PM2.5'] * X_train_df['Temperature']\n",
    "X_test_df['PM2.5_Temperature'] = X_test_df['PM2.5'] * X_test_df['Temperature']\n",
    "X_train_df['O3_Humidity'] = X_train_df['O3(GT)'] * X_train_df['Humidity']\n",
    "X_test_df['O3_Humidity'] = X_test_df['O3(GT)'] * X_test_df['Humidity']"
   ]
  },
  {
   "cell_type": "code",
   "execution_count": null,
   "id": "f8880b0a",
   "metadata": {
    "execution": {
     "iopub.execute_input": "2025-04-18T08:41:28.159524Z",
     "iopub.status.busy": "2025-04-18T08:41:28.159265Z",
     "iopub.status.idle": "2025-04-18T08:41:28.171115Z",
     "shell.execute_reply": "2025-04-18T08:41:28.170526Z"
    },
    "papermill": {
     "duration": 0.021378,
     "end_time": "2025-04-18T08:41:28.172441",
     "exception": false,
     "start_time": "2025-04-18T08:41:28.151063",
     "status": "completed"
    },
    "tags": []
   },
   "outputs": [],
   "source": [
    "# Handle outliers in ratio features (cap at 95th percentile)\n",
    "for col in ['CO_NOx_Ratio', 'NOx_NO2_Ratio']:\n",
    "    cap_value = X_train_df[col].quantile(0.95)\n",
    "    X_train_df[col] = np.clip(X_train_df[col], X_train_df[col].min(), cap_value)\n",
    "    X_test_df[col] = np.clip(X_test_df[col], X_test_df[col].min(), cap_value)"
   ]
  },
  {
   "cell_type": "code",
   "execution_count": null,
   "id": "21fddccf",
   "metadata": {
    "execution": {
     "iopub.execute_input": "2025-04-18T08:41:28.189415Z",
     "iopub.status.busy": "2025-04-18T08:41:28.188722Z",
     "iopub.status.idle": "2025-04-18T08:41:28.673389Z",
     "shell.execute_reply": "2025-04-18T08:41:28.672586Z"
    },
    "papermill": {
     "duration": 0.496215,
     "end_time": "2025-04-18T08:41:28.676180",
     "exception": false,
     "start_time": "2025-04-18T08:41:28.179965",
     "status": "completed"
    },
    "tags": []
   },
   "outputs": [
    {
     "data": {
      "image/png": "[encoded data removed]",
      "text/plain": [
       "<Figure size 1200x800 with 2 Axes>"
      ]
     },
     "metadata": {},
     "output_type": "display_data"
    }
   ],
   "source": [
    "# Correlation analysis\n",
    "plt.figure(figsize=(12, 8))\n",
    "corr_matrix = X_train_df.corr()\n",
    "sns.heatmap(corr_matrix, annot=False, cmap='coolwarm', vmin=-1, vmax=1)\n",
    "plt.title('Correlation Matrix of Features')\n",
    "plt.show()"
   ]
  },
  {
   "cell_type": "code",
   "execution_count": null,
   "id": "d48586ee",
   "metadata": {
    "execution": {
     "iopub.execute_input": "2025-04-18T08:41:28.696718Z",
     "iopub.status.busy": "2025-04-18T08:41:28.696451Z",
     "iopub.status.idle": "2025-04-18T08:41:28.708456Z",
     "shell.execute_reply": "2025-04-18T08:41:28.707633Z"
    },
    "papermill": {
     "duration": 0.02406,
     "end_time": "2025-04-18T08:41:28.709977",
     "exception": false,
     "start_time": "2025-04-18T08:41:28.685917",
     "status": "completed"
    },
    "tags": []
   },
   "outputs": [
    {
     "name": "stdout",
     "output_type": "stream",
     "text": [
      "Features to drop due to high correlation: ['Season']\n"
     ]
    }
   ],
   "source": [
    "# Drop highly correlated features (|corr| > 0.8)\n",
    "upper = corr_matrix.where(np.triu(np.ones(corr_matrix.shape), k=1).astype(bool))\n",
    "to_drop = [column for column in upper.columns if any(upper[column].abs() > 0.8)]\n",
    "print(\"Features to drop due to high correlation:\", to_drop)\n",
    "X_train_engineered = X_train_df.drop(to_drop, axis=1)\n",
    "X_test_engineered = X_test_df.drop(to_drop, axis=1)"
   ]
  },
  {
   "cell_type": "code",
   "execution_count": null,
   "id": "8f8be46f",
   "metadata": {
    "execution": {
     "iopub.execute_input": "2025-04-18T08:41:28.729662Z",
     "iopub.status.busy": "2025-04-18T08:41:28.729371Z",
     "iopub.status.idle": "2025-04-18T08:41:28.734398Z",
     "shell.execute_reply": "2025-04-18T08:41:28.733449Z"
    },
    "papermill": {
     "duration": 0.016233,
     "end_time": "2025-04-18T08:41:28.735593",
     "exception": false,
     "start_time": "2025-04-18T08:41:28.719360",
     "status": "completed"
    },
    "tags": []
   },
   "outputs": [
    {
     "name": "stdout",
     "output_type": "stream",
     "text": [
      "Engineered training data shape: (3200, 23)\n",
      "Engineered test data shape: (800, 23)\n",
      "New features added: ['Month', 'Season', 'PM2.5_Temperature', 'O3_Humidity']\n",
      "Features after engineering: ['CO(GT)', 'NOx(GT)', 'NO2(GT)', 'O3(GT)', 'SO2(GT)', 'PM2.5', 'PM10', 'Temperature', 'Humidity', 'Pressure', 'WindSpeed', 'WindDirection', 'CO_NOx_Ratio', 'NOx_NO2_Ratio', 'Temp_Humidity_Index', 'CO_MA3', 'NO2_MA3', 'O3_MA3', 'DayOfWeek', 'Hour', 'Month', 'PM2.5_Temperature', 'O3_Humidity']\n"
     ]
    }
   ],
   "source": [
    "# Print summary\n",
    "print(\"Engineered training data shape:\", X_train_engineered.shape)\n",
    "print(\"Engineered test data shape:\", X_test_engineered.shape)\n",
    "print(\"New features added:\", ['Month', 'Season', 'PM2.5_Temperature', 'O3_Humidity'])\n",
    "print(\"Features after engineering:\", X_train_engineered.columns.tolist())"
   ]
  },
  {
   "cell_type": "markdown",
   "id": "674c4391",
   "metadata": {
    "papermill": {
     "duration": 0.009008,
     "end_time": "2025-04-18T08:41:28.754176",
     "exception": false,
     "start_time": "2025-04-18T08:41:28.745168",
     "status": "completed"
    },
    "tags": []
   },
   "source": [
    "## **Model Selection**"
   ]
  },
  {
   "cell_type": "code",
   "execution_count": null,
   "id": "617cd8eb",
   "metadata": {
    "execution": {
     "iopub.execute_input": "2025-04-18T08:41:28.774107Z",
     "iopub.status.busy": "2025-04-18T08:41:28.773755Z",
     "iopub.status.idle": "2025-04-18T08:41:28.778276Z",
     "shell.execute_reply": "2025-04-18T08:41:28.777581Z"
    },
    "papermill": {
     "duration": 0.015923,
     "end_time": "2025-04-18T08:41:28.779553",
     "exception": false,
     "start_time": "2025-04-18T08:41:28.763630",
     "status": "completed"
    },
    "tags": []
   },
   "outputs": [],
   "source": [
    "# Ensure X_train_engineered and X_test_engineered are DataFrames\n",
    "if not isinstance(X_train_engineered, pd.DataFrame):\n",
    "    X_train_engineered = pd.DataFrame(X_train_engineered, columns=X_train_engineered.columns)\n",
    "if not isinstance(X_test_engineered, pd.DataFrame):\n",
    "    X_test_engineered = pd.DataFrame(X_test_engineered, columns=X_test_engineered.columns)"
   ]
  },
  {
   "cell_type": "code",
   "execution_count": null,
   "id": "453ee017",
   "metadata": {
    "execution": {
     "iopub.execute_input": "2025-04-18T08:41:28.800254Z",
     "iopub.status.busy": "2025-04-18T08:41:28.799943Z",
     "iopub.status.idle": "2025-04-18T08:41:28.805057Z",
     "shell.execute_reply": "2025-04-18T08:41:28.804149Z"
    },
    "papermill": {
     "duration": 0.017082,
     "end_time": "2025-04-18T08:41:28.806309",
     "exception": false,
     "start_time": "2025-04-18T08:41:28.789227",
     "status": "completed"
    },
    "tags": []
   },
   "outputs": [],
   "source": [
    "# Define models\n",
    "models = {\n",
    "    'Linear Regression': LinearRegression(),\n",
    "    'Random Forest': RandomForestRegressor(random_state=42, n_jobs=-1),\n",
    "    'XGBoost': XGBRegressor(random_state=42, n_jobs=-1)\n",
    "}"
   ]
  },
  {
   "cell_type": "code",
   "execution_count": null,
   "id": "62d73d14",
   "metadata": {
    "execution": {
     "iopub.execute_input": "2025-04-18T08:41:28.827104Z",
     "iopub.status.busy": "2025-04-18T08:41:28.826754Z",
     "iopub.status.idle": "2025-04-18T08:41:56.985045Z",
     "shell.execute_reply": "2025-04-18T08:41:56.984369Z"
    },
    "papermill": {
     "duration": 28.170494,
     "end_time": "2025-04-18T08:41:56.986794",
     "exception": false,
     "start_time": "2025-04-18T08:41:28.816300",
     "status": "completed"
    },
    "tags": []
   },
   "outputs": [
    {
     "name": "stdout",
     "output_type": "stream",
     "text": [
      "Model Performance Summary:\n",
      "\n",
      "Linear Regression:\n",
      "  CV RMSE: 143.6226 (±2.4951)\n",
      "  CV R2: -0.0040 (±0.0071)\n",
      "  Test RMSE: 145.0675\n",
      "  Test R2: -0.0135\n",
      "\n",
      "Random Forest:\n",
      "  CV RMSE: 146.6832 (±2.6859)\n",
      "  CV R2: -0.0472 (±0.0096)\n",
      "  Test RMSE: 146.1934\n",
      "  Test R2: -0.0293\n",
      "\n",
      "XGBoost:\n",
      "  CV RMSE: 159.1309 (±3.6400)\n",
      "  CV R2: -0.2330 (±0.0448)\n",
      "  Test RMSE: 160.0105\n",
      "  Test R2: -0.2331\n"
     ]
    }
   ],
   "source": [
    "# Evaluate models using cross-validation\n",
    "results = {}\n",
    "for name, model in models.items():\n",
    "    # Cross-validation scores (5-fold)\n",
    "    cv_rmse = -cross_val_score(model, X_train_engineered, y_train, \n",
    "                              scoring='neg_root_mean_squared_error', cv=5)\n",
    "    cv_r2 = cross_val_score(model, X_train_engineered, y_train, \n",
    "                           scoring='r2', cv=5)\n",
    "    results[name] = {\n",
    "        'CV RMSE': cv_rmse.mean(),\n",
    "        'CV RMSE Std': cv_rmse.std(),\n",
    "        'CV R2': cv_r2.mean(),\n",
    "        'CV R2 Std': cv_r2.std()\n",
    "    }\n",
    "    \n",
    "    # Train on full training data and evaluate on test set\n",
    "    model.fit(X_train_engineered, y_train)\n",
    "    y_pred = model.predict(X_test_engineered)\n",
    "    test_rmse = np.sqrt(mean_squared_error(y_test, y_pred))\n",
    "    test_r2 = r2_score(y_test, y_pred)\n",
    "    results[name]['Test RMSE'] = test_rmse\n",
    "    results[name]['Test R2'] = test_r2\n",
    "\n",
    "# Print results\n",
    "print(\"Model Performance Summary:\")\n",
    "for name, metrics in results.items():\n",
    "    print(f\"\\n{name}:\")\n",
    "    print(f\"  CV RMSE: {metrics['CV RMSE']:.4f} (±{metrics['CV RMSE Std']:.4f})\")\n",
    "    print(f\"  CV R2: {metrics['CV R2']:.4f} (±{metrics['CV R2 Std']:.4f})\")\n",
    "    print(f\"  Test RMSE: {metrics['Test RMSE']:.4f}\")\n",
    "    print(f\"  Test R2: {metrics['Test R2']:.4f}\")"
   ]
  },
  {
   "cell_type": "markdown",
   "id": "99ab102a",
   "metadata": {
    "papermill": {
     "duration": 0.009495,
     "end_time": "2025-04-18T08:41:57.008692",
     "exception": false,
     "start_time": "2025-04-18T08:41:56.999197",
     "status": "completed"
    },
    "tags": []
   },
   "source": [
    "#### **Findings**\n",
    "- **Linear Regression:** CV RMSE: 143.6226 (±2.4951), Test RMSE: 145.0675, CV R²: -0.0040, Test R²: -0.0135.\n",
    "- **Random Forest:** CV RMSE: 146.6832 (±2.6859), Test RMSE: 146.1934, CV R²: -0.0472, Test R²: -0.0293.\n",
    "- **XGBoost:** CV RMSE: 159.1309 (±3.6400), Test RMSE: 160.0105, CV R²: -0.2330, Test R²: -0.2331.\n",
    "- All models performed poorly, with negative R² values indicating they were worse than predicting the mean AQI. RMSE values (~143–160) were close to the standard deviation of AirQualityIndex (143.57), confirming random-like predictions.\n",
    "- Linear Regression performed slightly better (lowest Test RMSE), but still failed to capture meaningful patterns."
   ]
  },
  {
   "cell_type": "markdown",
   "id": "3aa202ee",
   "metadata": {
    "papermill": {
     "duration": 0.009365,
     "end_time": "2025-04-18T08:41:57.027563",
     "exception": false,
     "start_time": "2025-04-18T08:41:57.018198",
     "status": "completed"
    },
    "tags": []
   },
   "source": [
    "#### **Key Challenges:**\n",
    "\n",
    "1. **Dataset Issues:**\n",
    "    - The negative R² and high RMSE across all models suggest that AirQualityIndex may not be strongly correlated with the provided features or is computed in a way that misaligns with them (e.g., a non-standard formula or noisy derivation).\n",
    "Ratio-based features (CO_NOx_Ratio, NOx_NO2_Ratio) had significant outliers, likely introducing noise despite capping.\n",
    "    - The dataset may lack critical predictors or contain inconsistencies, as evidenced by others reporting similar poor results.\n",
    "2. **Feature Engineering:**\n",
    "    - While Month, Season, and interaction terms were physically meaningful, they didn’t improve performance, possibly because temporal patterns were weak or overshadowed by noisy features.\n",
    "    - The absence of dropped features in correlation analysis suggests moderate correlations, but features like CO_MA3 and NO2_MA3 may still be redundant.\n",
    "3. **Model Limitations:**\n",
    "    - Linear Regression failed due to weak linear relationships.\n",
    "    - Random Forest and XGBoost, despite their ability to model non-linearity, likely overfit to noise or were hindered by irrelevant features.\n",
    "\n",
    "#### **Future improvements could include:**\n",
    "- Investigating the AirQualityIndex calculation to ensure it aligns with standard AQI formulas (e.g., based on PM2.5, NO2, O3).\n",
    "- Pruning noisy features (e.g., CO_NOx_Ratio, NOx_NO2_Ratio) using variance thresholds or feature importance.\n",
    "- Collecting additional data (e.g., traffic patterns, emission sources) to enhance predictive power.\n",
    "- Applying robust scaling or log-transforming the target to handle potential skewness."
   ]
  }
 ],
 "metadata": {
  "kaggle": {
   "accelerator": "none",
   "dataSources": [
    {
     "datasetId": 6960477,
     "sourceId": 11155948,
     "sourceType": "datasetVersion"
    }
   ],
   "dockerImageVersionId": 31012,
   "isGpuEnabled": false,
   "isInternetEnabled": true,
   "language": "python",
   "sourceType": "notebook"
  },
  "kernelspec": {
   "display_name": "Python 3",
   "language": "python",
   "name": "python3"
  },
  "language_info": {
   "codemirror_mode": {
    "name": "ipython",
    "version": 3
   },
   "file_extension": ".py",
   "mimetype": "text/x-python",
   "name": "python",
   "nbconvert_exporter": "python",
   "pygments_lexer": "ipython3",
   "version": "3.11.11"
  },
  "papermill": {
   "default_parameters": {},
   "duration": 41.451207,
   "end_time": "2025-04-18T08:41:57.756390",
   "environment_variables": {},
   "exception": null,
   "input_path": "__notebook__.ipynb",
   "output_path": "__notebook__.ipynb",
   "parameters": {},
   "start_time": "2025-04-18T08:41:16.305183",
   "version": "2.6.0"
  }
 },
 "nbformat": 4,
 "nbformat_minor": 5
}
